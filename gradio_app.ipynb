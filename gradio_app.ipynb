{
 "cells": [
  {
   "cell_type": "code",
   "execution_count": 1,
   "id": "fc0be284",
   "metadata": {},
   "outputs": [],
   "source": [
    "import gradio as gr"
   ]
  },
  {
   "cell_type": "code",
   "execution_count": 3,
   "id": "b507ced8",
   "metadata": {},
   "outputs": [],
   "source": [
    "from fastai.vision.all import *"
   ]
  },
  {
   "cell_type": "code",
   "execution_count": 4,
   "id": "1247b0a6",
   "metadata": {},
   "outputs": [
    {
     "ename": "ModuleNotFoundError",
     "evalue": "No module named '__builtin__'",
     "output_type": "error",
     "traceback": [
      "\u001b[1;31m---------------------------------------------------------------------------\u001b[0m",
      "\u001b[1;31mModuleNotFoundError\u001b[0m                       Traceback (most recent call last)",
      "Cell \u001b[1;32mIn[4], line 1\u001b[0m\n\u001b[1;32m----> 1\u001b[0m dogcat \u001b[39m=\u001b[39m load_learner(\u001b[39m'\u001b[39;49m\u001b[39mcatdog_model.pkl\u001b[39;49m\u001b[39m'\u001b[39;49m)\n",
      "File \u001b[1;32mc:\\Users\\Shwetansh Singh\\miniconda3\\envs\\pipsetup\\Lib\\site-packages\\fastai\\learner.py:446\u001b[0m, in \u001b[0;36mload_learner\u001b[1;34m(fname='catdog_model.pkl', cpu=True, pickle_module=<module 'pickle' from 'c:\\\\Users\\\\Shwetansh Singh\\\\miniconda3\\\\envs\\\\pipsetup\\\\Lib\\\\pickle.py'>)\u001b[0m\n\u001b[0;32m    444\u001b[0m distrib_barrier()\n\u001b[0;32m    445\u001b[0m map_loc \u001b[39m=\u001b[39m \u001b[39m'\u001b[39m\u001b[39mcpu\u001b[39m\u001b[39m'\u001b[39m \u001b[39mif\u001b[39;00m cpu \u001b[39melse\u001b[39;00m default_device()\n\u001b[1;32m--> 446\u001b[0m \u001b[39mtry\u001b[39;00m: res \u001b[39m=\u001b[39m torch\u001b[39m.\u001b[39;49mload(fname, map_location\u001b[39m=\u001b[39;49mmap_loc, pickle_module\u001b[39m=\u001b[39;49mpickle_module)\n        map_loc \u001b[1;34m= 'cpu'\u001b[0m\u001b[1;34m\n        \u001b[0mfname \u001b[1;34m= 'catdog_model.pkl'\u001b[0m\u001b[1;34m\n        \u001b[0mpickle_module \u001b[1;34m= <module 'pickle' from 'c:\\\\Users\\\\Shwetansh Singh\\\\miniconda3\\\\envs\\\\pipsetup\\\\Lib\\\\pickle.py'>\u001b[0m\n\u001b[0;32m    447\u001b[0m \u001b[39mexcept\u001b[39;00m \u001b[39mAttributeError\u001b[39;00m \u001b[39mas\u001b[39;00m e: \n\u001b[0;32m    448\u001b[0m     e\u001b[39m.\u001b[39margs \u001b[39m=\u001b[39m [\u001b[39mf\u001b[39m\u001b[39m\"\u001b[39m\u001b[39mCustom classes or functions exported with your `Learner` not available in namespace.\u001b[39m\u001b[39m\\\u001b[39m\u001b[39mRe-declare/import before loading:\u001b[39m\u001b[39m\\n\u001b[39;00m\u001b[39m\\t\u001b[39;00m\u001b[39m{\u001b[39;00me\u001b[39m.\u001b[39margs[\u001b[39m0\u001b[39m]\u001b[39m}\u001b[39;00m\u001b[39m\"\u001b[39m]\n",
      "File \u001b[1;32mc:\\Users\\Shwetansh Singh\\miniconda3\\envs\\pipsetup\\Lib\\site-packages\\torch\\serialization.py:815\u001b[0m, in \u001b[0;36mload\u001b[1;34m(f='catdog_model.pkl', map_location='cpu', pickle_module=<module 'pickle' from 'c:\\\\Users\\\\Shwetansh Singh\\\\miniconda3\\\\envs\\\\pipsetup\\\\Lib\\\\pickle.py'>, weights_only=False, **pickle_load_args={'encoding': 'utf-8'})\u001b[0m\n\u001b[0;32m    813\u001b[0m     \u001b[39mexcept\u001b[39;00m \u001b[39mRuntimeError\u001b[39;00m \u001b[39mas\u001b[39;00m e:\n\u001b[0;32m    814\u001b[0m         \u001b[39mraise\u001b[39;00m pickle\u001b[39m.\u001b[39mUnpicklingError(UNSAFE_MESSAGE \u001b[39m+\u001b[39m \u001b[39mstr\u001b[39m(e)) \u001b[39mfrom\u001b[39;00m \u001b[39mNone\u001b[39;00m\n\u001b[1;32m--> 815\u001b[0m \u001b[39mreturn\u001b[39;00m _legacy_load(opened_file, map_location, pickle_module, \u001b[39m*\u001b[39;49m\u001b[39m*\u001b[39;49mpickle_load_args)\n        pickle_module \u001b[1;34m= <module 'pickle' from 'c:\\\\Users\\\\Shwetansh Singh\\\\miniconda3\\\\envs\\\\pipsetup\\\\Lib\\\\pickle.py'>\u001b[0m\u001b[1;34m\n        \u001b[0mopened_file \u001b[1;34m= <_io.BufferedReader name='catdog_model.pkl'>\u001b[0m\u001b[1;34m\n        \u001b[0mpickle_load_args \u001b[1;34m= {'encoding': 'utf-8'}\u001b[0m\u001b[1;34m\n        \u001b[0mmap_location \u001b[1;34m= 'cpu'\u001b[0m\n",
      "File \u001b[1;32mc:\\Users\\Shwetansh Singh\\miniconda3\\envs\\pipsetup\\Lib\\site-packages\\torch\\serialization.py:1033\u001b[0m, in \u001b[0;36m_legacy_load\u001b[1;34m(f=<_io.BufferedReader name='catdog_model.pkl'>, map_location='cpu', pickle_module=<module 'pickle' from 'c:\\\\Users\\\\Shwetansh Singh\\\\miniconda3\\\\envs\\\\pipsetup\\\\Lib\\\\pickle.py'>, **pickle_load_args={'encoding': 'utf-8'})\u001b[0m\n\u001b[0;32m   1027\u001b[0m \u001b[39mif\u001b[39;00m \u001b[39mnot\u001b[39;00m \u001b[39mhasattr\u001b[39m(f, \u001b[39m'\u001b[39m\u001b[39mreadinto\u001b[39m\u001b[39m'\u001b[39m) \u001b[39mand\u001b[39;00m (\u001b[39m3\u001b[39m, \u001b[39m8\u001b[39m, \u001b[39m0\u001b[39m) \u001b[39m<\u001b[39m\u001b[39m=\u001b[39m sys\u001b[39m.\u001b[39mversion_info \u001b[39m<\u001b[39m (\u001b[39m3\u001b[39m, \u001b[39m8\u001b[39m, \u001b[39m2\u001b[39m):\n\u001b[0;32m   1028\u001b[0m     \u001b[39mraise\u001b[39;00m \u001b[39mRuntimeError\u001b[39;00m(\n\u001b[0;32m   1029\u001b[0m         \u001b[39m\"\u001b[39m\u001b[39mtorch.load does not work with file-like objects that do not implement readinto on Python 3.8.0 and 3.8.1. \u001b[39m\u001b[39m\"\u001b[39m\n\u001b[0;32m   1030\u001b[0m         \u001b[39mf\u001b[39m\u001b[39m\"\u001b[39m\u001b[39mReceived object of type \u001b[39m\u001b[39m\\\"\u001b[39;00m\u001b[39m{\u001b[39;00m\u001b[39mtype\u001b[39m(f)\u001b[39m}\u001b[39;00m\u001b[39m\\\"\u001b[39;00m\u001b[39m. Please update to Python 3.8.2 or newer to restore this \u001b[39m\u001b[39m\"\u001b[39m\n\u001b[0;32m   1031\u001b[0m         \u001b[39m\"\u001b[39m\u001b[39mfunctionality.\u001b[39m\u001b[39m\"\u001b[39m)\n\u001b[1;32m-> 1033\u001b[0m magic_number \u001b[39m=\u001b[39m pickle_module\u001b[39m.\u001b[39;49mload(f, \u001b[39m*\u001b[39;49m\u001b[39m*\u001b[39;49mpickle_load_args)\n        pickle_module \u001b[1;34m= <module 'pickle' from 'c:\\\\Users\\\\Shwetansh Singh\\\\miniconda3\\\\envs\\\\pipsetup\\\\Lib\\\\pickle.py'>\u001b[0m\u001b[1;34m\n        \u001b[0mf \u001b[1;34m= <_io.BufferedReader name='catdog_model.pkl'>\u001b[0m\u001b[1;34m\n        \u001b[0mpickle_load_args \u001b[1;34m= {'encoding': 'utf-8'}\u001b[0m\n\u001b[0;32m   1034\u001b[0m \u001b[39mif\u001b[39;00m magic_number \u001b[39m!=\u001b[39m MAGIC_NUMBER:\n\u001b[0;32m   1035\u001b[0m     \u001b[39mraise\u001b[39;00m \u001b[39mRuntimeError\u001b[39;00m(\u001b[39m\"\u001b[39m\u001b[39mInvalid magic number; corrupt file?\u001b[39m\u001b[39m\"\u001b[39m)\n",
      "\u001b[1;31mModuleNotFoundError\u001b[0m: No module named '__builtin__'"
     ]
    }
   ],
   "source": [
    "# dogcat = load_learner('catdog_model.pkl')"
   ]
  },
  {
   "cell_type": "code",
   "execution_count": 5,
   "id": "d99b527c",
   "metadata": {},
   "outputs": [],
   "source": [
    "\n",
    "\n",
    "import dill\n",
    "with open('catdog_model.pkl','rb') as f:\n",
    "    dogcat = dill.load(f)\n",
    "    \n",
    "\n",
    "    "
   ]
  },
  {
   "cell_type": "code",
   "execution_count": 6,
   "id": "d1162f94",
   "metadata": {},
   "outputs": [],
   "source": [
    "dogcatLabels = ['Dog','Cat']\n",
    "# print(type(dogcatLabels))"
   ]
  },
  {
   "cell_type": "code",
   "execution_count": 7,
   "id": "221c1b42",
   "metadata": {},
   "outputs": [],
   "source": [
    "def classify(image):\n",
    "    img = PILImage.create(image)\n",
    "    pred,pred_idx,prob = dogcat.predict(img)\n",
    "    return dogcatLabels[pred_idx]\n",
    "    \n"
   ]
  },
  {
   "cell_type": "markdown",
   "id": "a2d27057",
   "metadata": {},
   "source": [
    "code for when I wish to take input for testing, myself. for the final product, use gradio"
   ]
  },
  {
   "cell_type": "code",
   "execution_count": 8,
   "id": "bd0b3024",
   "metadata": {},
   "outputs": [
    {
     "data": {
      "application/vnd.jupyter.widget-view+json": {
       "model_id": "7ed8ea00098d4c68a057c77c93ff22fc",
       "version_major": 2,
       "version_minor": 0
      },
      "text/plain": [
       "FileUpload(value=(), description='Upload')"
      ]
     },
     "execution_count": 8,
     "metadata": {},
     "output_type": "execute_result"
    }
   ],
   "source": [
    "# import ipywidgets as widgets\n",
    "# uploader = widgets.FileUpload()\n",
    "# uploader"
   ]
  },
  {
   "cell_type": "code",
   "execution_count": 8,
   "id": "f6732bfa",
   "metadata": {},
   "outputs": [
    {
     "name": "stderr",
     "output_type": "stream",
     "text": [
      "C:\\Users\\Shwetansh Singh\\AppData\\Local\\Temp\\ipykernel_3892\\4132513009.py:1: GradioDeprecationWarning: Usage of gradio.inputs is deprecated, and will not be supported in the future, please import your component from gradio.components\n",
      "  gr.Interface(fn=classify, inputs=gr.inputs.Image(shape=(512, 512)), outputs=\"text\",title = \"Cat and Dog Classifier\",description = \"A cat and dog classifier trained on the Oxford Pets dataset with fastai.\").launch(share=True)\n",
      "C:\\Users\\Shwetansh Singh\\AppData\\Local\\Temp\\ipykernel_3892\\4132513009.py:1: GradioDeprecationWarning: `optional` parameter is deprecated, and it has no effect\n",
      "  gr.Interface(fn=classify, inputs=gr.inputs.Image(shape=(512, 512)), outputs=\"text\",title = \"Cat and Dog Classifier\",description = \"A cat and dog classifier trained on the Oxford Pets dataset with fastai.\").launch(share=True)\n"
     ]
    },
    {
     "name": "stdout",
     "output_type": "stream",
     "text": [
      "Running on local URL:  http://127.0.0.1:7860\n",
      "\n",
      "Could not create share link. Please check your internet connection or our status page: https://status.gradio.app.\n"
     ]
    },
    {
     "data": {
      "text/html": [
       "<div><iframe src=\"http://127.0.0.1:7860/\" width=\"100%\" height=\"500\" allow=\"autoplay; camera; microphone; clipboard-read; clipboard-write;\" frameborder=\"0\" allowfullscreen></iframe></div>"
      ],
      "text/plain": [
       "<IPython.core.display.HTML object>"
      ]
     },
     "metadata": {},
     "output_type": "display_data"
    },
    {
     "data": {
      "text/plain": []
     },
     "execution_count": 8,
     "metadata": {},
     "output_type": "execute_result"
    }
   ],
   "source": [
    "gr.Interface(fn=classify, inputs=gr.inputs.Image(shape=(512, 512)), outputs=\"text\",title = \"Cat and Dog Classifier\",description = \"A cat and dog classifier trained on the Oxford Pets dataset with fastai.\").launch(share=True)\n",
    "\n",
    "#gr.outputs.Label(num_top_classes=3)"
   ]
  }
 ],
 "metadata": {
  "kernelspec": {
   "display_name": "Python 3 (ipykernel)",
   "language": "python",
   "name": "python3"
  },
  "language_info": {
   "codemirror_mode": {
    "name": "ipython",
    "version": 3
   },
   "file_extension": ".py",
   "mimetype": "text/x-python",
   "name": "python",
   "nbconvert_exporter": "python",
   "pygments_lexer": "ipython3",
   "version": "3.11.4"
  }
 },
 "nbformat": 4,
 "nbformat_minor": 5
}
