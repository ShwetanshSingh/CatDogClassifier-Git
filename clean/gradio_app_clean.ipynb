{
 "cells": [
  {
   "cell_type": "code",
   "execution_count": 1,
   "id": "fc0be284",
   "metadata": {},
   "outputs": [],
   "source": [
    "import gradio as gr\n",
    "from fastai.vision.all import *\n",
    "import dill"
   ]
  },
  {
   "cell_type": "code",
   "execution_count": 3,
   "id": "d99b527c",
   "metadata": {},
   "outputs": [],
   "source": [
    "with open('catdog_model.pkl','rb') as f:\n",
    "    dogcat = dill.load(f)"
   ]
  },
  {
   "cell_type": "code",
   "execution_count": 4,
   "id": "d1162f94",
   "metadata": {},
   "outputs": [],
   "source": [
    "dogcatLabels = ['Dog','Cat']"
   ]
  },
  {
   "cell_type": "code",
   "execution_count": 5,
   "id": "221c1b42",
   "metadata": {},
   "outputs": [],
   "source": [
    "def classify(image):\n",
    "    img = PILImage.create(image)\n",
    "    pred,pred_idx,prob = dogcat.predict(img)\n",
    "    return dogcatLabels[pred_idx]"
   ]
  },
  {
   "cell_type": "code",
   "execution_count": null,
   "id": "f6732bfa",
   "metadata": {},
   "outputs": [
    {
     "name": "stderr",
     "output_type": "stream",
     "text": [
      "C:\\Users\\Shwetansh Singh\\AppData\\Local\\Temp\\ipykernel_3600\\4132513009.py:1: GradioDeprecationWarning: Usage of gradio.inputs is deprecated, and will not be supported in the future, please import your component from gradio.components\n",
      "  gr.Interface(fn=classify, inputs=gr.inputs.Image(shape=(512, 512)), outputs=\"text\",title = \"Cat and Dog Classifier\",description = \"A cat and dog classifier trained on the Oxford Pets dataset with fastai.\").launch(share=True)\n",
      "C:\\Users\\Shwetansh Singh\\AppData\\Local\\Temp\\ipykernel_3600\\4132513009.py:1: GradioDeprecationWarning: `optional` parameter is deprecated, and it has no effect\n",
      "  gr.Interface(fn=classify, inputs=gr.inputs.Image(shape=(512, 512)), outputs=\"text\",title = \"Cat and Dog Classifier\",description = \"A cat and dog classifier trained on the Oxford Pets dataset with fastai.\").launch(share=True)\n"
     ]
    },
    {
     "name": "stdout",
     "output_type": "stream",
     "text": [
      "Running on local URL:  http://127.0.0.1:7860\n",
      "\n",
      "Could not create share link. Please check your internet connection or our status page: https://status.gradio.app.\n"
     ]
    },
    {
     "data": {
      "text/html": [
       "<div><iframe src=\"http://127.0.0.1:7860/\" width=\"100%\" height=\"500\" allow=\"autoplay; camera; microphone; clipboard-read; clipboard-write;\" frameborder=\"0\" allowfullscreen></iframe></div>"
      ],
      "text/plain": [
       "<IPython.core.display.HTML object>"
      ]
     },
     "metadata": {},
     "output_type": "display_data"
    },
    {
     "data": {
      "text/plain": []
     },
     "execution_count": 7,
     "metadata": {},
     "output_type": "execute_result"
    }
   ],
   "source": [
    "gr.Interface(fn=classify, inputs=gr.inputs.Image(shape=(512, 512)), outputs=\"text\",title = \"Cat and Dog Classifier\",description = \"A cat and dog classifier trained on the Oxford Pets dataset with fastai.\").launch(share=True)"
   ]
  }
 ],
 "metadata": {
  "kernelspec": {
   "display_name": "Python 3 (ipykernel)",
   "language": "python",
   "name": "python3"
  },
  "language_info": {
   "codemirror_mode": {
    "name": "ipython",
    "version": 3
   },
   "file_extension": ".py",
   "mimetype": "text/x-python",
   "name": "python",
   "nbconvert_exporter": "python",
   "pygments_lexer": "ipython3",
   "version": "3.11.4"
  }
 },
 "nbformat": 4,
 "nbformat_minor": 5
}
