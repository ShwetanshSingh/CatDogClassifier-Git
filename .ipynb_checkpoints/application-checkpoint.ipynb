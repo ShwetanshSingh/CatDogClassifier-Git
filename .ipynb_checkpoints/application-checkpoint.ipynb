{
 "cells": [
  {
   "cell_type": "code",
   "execution_count": null,
   "id": "4d0cf4a0",
   "metadata": {},
   "outputs": [],
   "source": [
    "import tkinter as tk\n",
    "from tkinter import filedialog\n",
    "import dill\n",
    "from fastai.vision.all import *"
   ]
  },
  {
   "cell_type": "code",
   "execution_count": null,
   "id": "32dfb628",
   "metadata": {},
   "outputs": [],
   "source": [
    "root = tk.Tk()\n",
    "root.withdraw()\n",
    "\n",
    "filePath = filedialog.askopenfilename()"
   ]
  },
  {
   "cell_type": "code",
   "execution_count": null,
   "id": "ad3b1e28",
   "metadata": {},
   "outputs": [],
   "source": [
    "with open ('catdog_model.pkl','rb') as f:\n",
    "    learn = dill.load(f)"
   ]
  },
  {
   "cell_type": "code",
   "execution_count": null,
   "id": "f1747d31",
   "metadata": {},
   "outputs": [],
   "source": [
    "outputLabels = learn.dls.vocab\n",
    "outputLabels"
   ]
  },
  {
   "cell_type": "code",
   "execution_count": null,
   "id": "eb773239",
   "metadata": {},
   "outputs": [],
   "source": [
    "def pred(image):\n",
    "    "
   ]
  },
  {
   "cell_type": "code",
   "execution_count": null,
   "id": "67aeba30",
   "metadata": {},
   "outputs": [],
   "source": [
    "img = PILImage.open(filePath)"
   ]
  }
 ],
 "metadata": {
  "kernelspec": {
   "display_name": "Python 3 (ipykernel)",
   "language": "python",
   "name": "python3"
  },
  "language_info": {
   "codemirror_mode": {
    "name": "ipython",
    "version": 3
   },
   "file_extension": ".py",
   "mimetype": "text/x-python",
   "name": "python",
   "nbconvert_exporter": "python",
   "pygments_lexer": "ipython3",
   "version": "3.11.4"
  }
 },
 "nbformat": 4,
 "nbformat_minor": 5
}
