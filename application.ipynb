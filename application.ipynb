{
 "cells": [
  {
   "cell_type": "code",
   "execution_count": 11,
   "id": "4d0cf4a0",
   "metadata": {},
   "outputs": [],
   "source": [
    "import tkinter as tk\n",
    "from tkinter import filedialog\n",
    "import dill\n",
    "from fastai.vision.all import *\n",
    "import ipywidgets as widgets\n",
    "# from PIL import Image"
   ]
  },
  {
   "cell_type": "code",
   "execution_count": 6,
   "id": "32dfb628",
   "metadata": {},
   "outputs": [
    {
     "data": {
      "application/vnd.jupyter.widget-view+json": {
       "model_id": "658861de43b541de9483cb13039894f7",
       "version_major": 2,
       "version_minor": 0
      },
      "text/plain": [
       "FileUpload(value=(), description='Upload')"
      ]
     },
     "execution_count": 6,
     "metadata": {},
     "output_type": "execute_result"
    }
   ],
   "source": [
    "# root = tk.Tk()\n",
    "# root.withdraw()\n",
    "\n",
    "# filePath = filedialog.askopenfile()\n",
    "\n",
    "uploader = widgets.FileUpload()\n",
    "uploader"
   ]
  },
  {
   "cell_type": "code",
   "execution_count": 7,
   "id": "ad3b1e28",
   "metadata": {},
   "outputs": [],
   "source": [
    "with open ('catdog_model.pkl','rb') as f:\n",
    "    learn = dill.load(f)"
   ]
  },
  {
   "cell_type": "code",
   "execution_count": 17,
   "id": "f1747d31",
   "metadata": {},
   "outputs": [
    {
     "name": "stdout",
     "output_type": "stream",
     "text": [
      "<class 'ipywidgets.widgets.widget_upload.FileUpload'>\n"
     ]
    }
   ],
   "source": [
    "outputLabels = learn.dls.vocab\n",
    "outputLabels"
   ]
  },
  {
   "cell_type": "code",
   "execution_count": null,
   "id": "eb773239",
   "metadata": {},
   "outputs": [],
   "source": [
    "def pred(image):\n",
    "    if(learn.predict(image))"
   ]
  },
  {
   "cell_type": "code",
   "execution_count": 27,
   "id": "67aeba30",
   "metadata": {},
   "outputs": [
    {
     "ename": "AttributeError",
     "evalue": "read",
     "output_type": "error",
     "traceback": [
      "\u001b[1;31m---------------------------------------------------------------------------\u001b[0m",
      "\u001b[1;31mKeyError\u001b[0m                                  Traceback (most recent call last)",
      "File \u001b[1;32m~\\miniconda3\\envs\\pipsetup\\Lib\\site-packages\\traitlets\\utils\\bunch.py:15\u001b[0m, in \u001b[0;36mBunch.__getattr__\u001b[1;34m(self={'name': 'dog.jpg', 'type': 'image/jpeg', 'size'...7, 15, 10, 481000, tzinfo=datetime.timezone.utc)}, key='seek')\u001b[0m\n\u001b[0;32m     14\u001b[0m \u001b[38;5;28;01mtry\u001b[39;00m:\n\u001b[1;32m---> 15\u001b[0m     \u001b[38;5;28;01mreturn\u001b[39;00m \u001b[38;5;28;43mself\u001b[39;49m\u001b[38;5;241;43m.\u001b[39;49m\u001b[38;5;21;43m__getitem__\u001b[39;49m\u001b[43m(\u001b[49m\u001b[43mkey\u001b[49m\u001b[43m)\u001b[49m\n        key \u001b[1;34m= 'seek'\u001b[0m\u001b[1;34m\n        \u001b[0mself \u001b[1;34m= {'name': 'dog.jpg', 'type': 'image/jpeg', 'size': 215498, 'content': <memory at 0x000001D1051AC700>, 'last_modified': datetime.datetime(2023, 7, 15, 17, 15, 10, 481000, tzinfo=datetime.timezone.utc)}\u001b[0m\n\u001b[0;32m     16\u001b[0m \u001b[38;5;28;01mexcept\u001b[39;00m \u001b[38;5;167;01mKeyError\u001b[39;00m \u001b[38;5;28;01mas\u001b[39;00m e:\n",
      "\u001b[1;31mKeyError\u001b[0m: 'seek'",
      "\nThe above exception was the direct cause of the following exception:\n",
      "\u001b[1;31mAttributeError\u001b[0m                            Traceback (most recent call last)",
      "File \u001b[1;32m~\\miniconda3\\envs\\pipsetup\\Lib\\site-packages\\PIL\\Image.py:3135\u001b[0m, in \u001b[0;36mopen\u001b[1;34m(fp={'name': 'dog.jpg', 'type': 'image/jpeg', 'size'...7, 15, 10, 481000, tzinfo=datetime.timezone.utc)}, mode='r', formats=['PNG', 'BMP', 'DIB', 'GIF', 'TIFF', 'JPEG', 'PPM'])\u001b[0m\n\u001b[0;32m   3134\u001b[0m \u001b[38;5;28;01mtry\u001b[39;00m:\n\u001b[1;32m-> 3135\u001b[0m     \u001b[43mfp\u001b[49m\u001b[38;5;241;43m.\u001b[39;49m\u001b[43mseek\u001b[49m(\u001b[38;5;241m0\u001b[39m)\n        fp \u001b[1;34m= {'name': 'dog.jpg', 'type': 'image/jpeg', 'size': 215498, 'content': <memory at 0x000001D1051AC700>, 'last_modified': datetime.datetime(2023, 7, 15, 17, 15, 10, 481000, tzinfo=datetime.timezone.utc)}\u001b[0m\n\u001b[0;32m   3136\u001b[0m \u001b[38;5;28;01mexcept\u001b[39;00m (\u001b[38;5;167;01mAttributeError\u001b[39;00m, io\u001b[38;5;241m.\u001b[39mUnsupportedOperation):\n",
      "File \u001b[1;32m~\\miniconda3\\envs\\pipsetup\\Lib\\site-packages\\traitlets\\utils\\bunch.py:17\u001b[0m, in \u001b[0;36mBunch.__getattr__\u001b[1;34m(self={'name': 'dog.jpg', 'type': 'image/jpeg', 'size'...7, 15, 10, 481000, tzinfo=datetime.timezone.utc)}, key='seek')\u001b[0m\n\u001b[0;32m     16\u001b[0m \u001b[38;5;28;01mexcept\u001b[39;00m \u001b[38;5;167;01mKeyError\u001b[39;00m \u001b[38;5;28;01mas\u001b[39;00m e:\n\u001b[1;32m---> 17\u001b[0m     \u001b[38;5;28;01mraise\u001b[39;00m \u001b[38;5;167;01mAttributeError\u001b[39;00m(key) \u001b[38;5;28;01mfrom\u001b[39;00m \u001b[38;5;21;01me\u001b[39;00m\n        key \u001b[1;34m= 'seek'\u001b[0m\n",
      "\u001b[1;31mAttributeError\u001b[0m: seek",
      "\nDuring handling of the above exception, another exception occurred:\n",
      "\u001b[1;31mKeyError\u001b[0m                                  Traceback (most recent call last)",
      "File \u001b[1;32m~\\miniconda3\\envs\\pipsetup\\Lib\\site-packages\\traitlets\\utils\\bunch.py:15\u001b[0m, in \u001b[0;36mBunch.__getattr__\u001b[1;34m(self={'name': 'dog.jpg', 'type': 'image/jpeg', 'size'...7, 15, 10, 481000, tzinfo=datetime.timezone.utc)}, key='read')\u001b[0m\n\u001b[0;32m     14\u001b[0m \u001b[38;5;28;01mtry\u001b[39;00m:\n\u001b[1;32m---> 15\u001b[0m     \u001b[38;5;28;01mreturn\u001b[39;00m \u001b[38;5;28;43mself\u001b[39;49m\u001b[38;5;241;43m.\u001b[39;49m\u001b[38;5;21;43m__getitem__\u001b[39;49m\u001b[43m(\u001b[49m\u001b[43mkey\u001b[49m\u001b[43m)\u001b[49m\n        key \u001b[1;34m= 'read'\u001b[0m\u001b[1;34m\n        \u001b[0mself \u001b[1;34m= {'name': 'dog.jpg', 'type': 'image/jpeg', 'size': 215498, 'content': <memory at 0x000001D1051AC700>, 'last_modified': datetime.datetime(2023, 7, 15, 17, 15, 10, 481000, tzinfo=datetime.timezone.utc)}\u001b[0m\n\u001b[0;32m     16\u001b[0m \u001b[38;5;28;01mexcept\u001b[39;00m \u001b[38;5;167;01mKeyError\u001b[39;00m \u001b[38;5;28;01mas\u001b[39;00m e:\n",
      "\u001b[1;31mKeyError\u001b[0m: 'read'",
      "\nThe above exception was the direct cause of the following exception:\n",
      "\u001b[1;31mAttributeError\u001b[0m                            Traceback (most recent call last)",
      "Cell \u001b[1;32mIn[27], line 9\u001b[0m\n\u001b[0;32m      4\u001b[0m file \u001b[38;5;241m=\u001b[39m uploader\u001b[38;5;241m.\u001b[39mvalue[\u001b[38;5;241m0\u001b[39m]\n\u001b[0;32m      5\u001b[0m \u001b[38;5;66;03m# byteFile = file.content.tobytes()\u001b[39;00m\n\u001b[0;32m      6\u001b[0m \u001b[38;5;66;03m# img = widgets.Image(value=byteFile)\u001b[39;00m\n\u001b[0;32m      7\u001b[0m \u001b[38;5;66;03m# img\u001b[39;00m\n\u001b[1;32m----> 9\u001b[0m img \u001b[38;5;241m=\u001b[39m \u001b[43mPILImage\u001b[49m\u001b[38;5;241;43m.\u001b[39;49m\u001b[43mcreate\u001b[49m\u001b[43m(\u001b[49m\u001b[43mfile\u001b[49m\u001b[43m)\u001b[49m\n        file \u001b[1;34m= {'name': 'dog.jpg', 'type': 'image/jpeg', 'size': 215498, 'content': <memory at 0x000001D1051AC700>, 'last_modified': datetime.datetime(2023, 7, 15, 17, 15, 10, 481000, tzinfo=datetime.timezone.utc)}\u001b[0m\u001b[1;34m\n        \u001b[0mimg \u001b[1;34m= Image(value=b'\\xff\\xd8\\xff\\xe0\\x00\\x10JFIF\\x00\\x01\\x01\\x01\\x00H\\x00H\\x00\\x00\\xff\\xe2\\x02@ICC_PROFILE\\x00\\x01\\x01\\x00\\x00...')\u001b[0m\u001b[1;34m\n        \u001b[0mPILImage \u001b[1;34m= <class 'fastai.vision.core.PILImage'>\u001b[0m\n",
      "File \u001b[1;32m~\\miniconda3\\envs\\pipsetup\\Lib\\site-packages\\fastai\\vision\\core.py:125\u001b[0m, in \u001b[0;36mPILBase.create\u001b[1;34m(cls=<class 'fastai.vision.core.PILImage'>, fn={'name': 'dog.jpg', 'type': 'image/jpeg', 'size'...7, 15, 10, 481000, tzinfo=datetime.timezone.utc)}, **kwargs={})\u001b[0m\n\u001b[0;32m    123\u001b[0m \u001b[38;5;28;01mif\u001b[39;00m \u001b[38;5;28misinstance\u001b[39m(fn,\u001b[38;5;28mbytes\u001b[39m): fn \u001b[38;5;241m=\u001b[39m io\u001b[38;5;241m.\u001b[39mBytesIO(fn)\n\u001b[0;32m    124\u001b[0m \u001b[38;5;28;01mif\u001b[39;00m \u001b[38;5;28misinstance\u001b[39m(fn,Image\u001b[38;5;241m.\u001b[39mImage): \u001b[38;5;28;01mreturn\u001b[39;00m \u001b[38;5;28mcls\u001b[39m(fn)\n\u001b[1;32m--> 125\u001b[0m \u001b[38;5;28;01mreturn\u001b[39;00m \u001b[38;5;28mcls\u001b[39m(\u001b[43mload_image\u001b[49m\u001b[43m(\u001b[49m\u001b[43mfn\u001b[49m\u001b[43m,\u001b[49m\u001b[43m \u001b[49m\u001b[38;5;241;43m*\u001b[39;49m\u001b[38;5;241;43m*\u001b[39;49m\u001b[43mmerge\u001b[49m\u001b[43m(\u001b[49m\u001b[38;5;28;43mcls\u001b[39;49m\u001b[38;5;241;43m.\u001b[39;49m\u001b[43m_open_args\u001b[49m\u001b[43m,\u001b[49m\u001b[43m \u001b[49m\u001b[43mkwargs\u001b[49m\u001b[43m)\u001b[49m\u001b[43m)\u001b[49m)\n        fn \u001b[1;34m= {'name': 'dog.jpg', 'type': 'image/jpeg', 'size': 215498, 'content': <memory at 0x000001D1051AC700>, 'last_modified': datetime.datetime(2023, 7, 15, 17, 15, 10, 481000, tzinfo=datetime.timezone.utc)}\u001b[0m\u001b[1;34m\n        \u001b[0mcls \u001b[1;34m= <class 'fastai.vision.core.PILImage'>\u001b[0m\u001b[1;34m\n        \u001b[0mcls._open_args \u001b[1;34m= {'mode': 'RGB'}\u001b[0m\u001b[1;34m\n        \u001b[0mkwargs \u001b[1;34m= {}\u001b[0m\n",
      "File \u001b[1;32m~\\miniconda3\\envs\\pipsetup\\Lib\\site-packages\\fastai\\vision\\core.py:98\u001b[0m, in \u001b[0;36mload_image\u001b[1;34m(fn={'name': 'dog.jpg', 'type': 'image/jpeg', 'size'...7, 15, 10, 481000, tzinfo=datetime.timezone.utc)}, mode='RGB')\u001b[0m\n\u001b[0;32m     96\u001b[0m \u001b[38;5;28;01mdef\u001b[39;00m \u001b[38;5;21mload_image\u001b[39m(fn, mode\u001b[38;5;241m=\u001b[39m\u001b[38;5;28;01mNone\u001b[39;00m):\n\u001b[0;32m     97\u001b[0m     \u001b[38;5;124m\"\u001b[39m\u001b[38;5;124mOpen and load a `PIL.Image` and convert to `mode`\u001b[39m\u001b[38;5;124m\"\u001b[39m\n\u001b[1;32m---> 98\u001b[0m     im \u001b[38;5;241m=\u001b[39m \u001b[43mImage\u001b[49m\u001b[38;5;241;43m.\u001b[39;49m\u001b[43mopen\u001b[49m\u001b[43m(\u001b[49m\u001b[43mfn\u001b[49m\u001b[43m)\u001b[49m\n        fn \u001b[1;34m= {'name': 'dog.jpg', 'type': 'image/jpeg', 'size': 215498, 'content': <memory at 0x000001D1051AC700>, 'last_modified': datetime.datetime(2023, 7, 15, 17, 15, 10, 481000, tzinfo=datetime.timezone.utc)}\u001b[0m\u001b[1;34m\n        \u001b[0mImage \u001b[1;34m= <module 'PIL.Image' from 'C:\\\\Users\\\\Shwetansh Singh\\\\miniconda3\\\\envs\\\\pipsetup\\\\Lib\\\\site-packages\\\\PIL\\\\Image.py'>\u001b[0m\n\u001b[0;32m     99\u001b[0m     im\u001b[38;5;241m.\u001b[39mload()\n\u001b[0;32m    100\u001b[0m     im \u001b[38;5;241m=\u001b[39m im\u001b[38;5;241m.\u001b[39m_new(im\u001b[38;5;241m.\u001b[39mim)\n",
      "File \u001b[1;32m~\\miniconda3\\envs\\pipsetup\\Lib\\site-packages\\PIL\\Image.py:3137\u001b[0m, in \u001b[0;36mopen\u001b[1;34m(fp={'name': 'dog.jpg', 'type': 'image/jpeg', 'size'...7, 15, 10, 481000, tzinfo=datetime.timezone.utc)}, mode='r', formats=['PNG', 'BMP', 'DIB', 'GIF', 'TIFF', 'JPEG', 'PPM'])\u001b[0m\n\u001b[0;32m   3135\u001b[0m     fp\u001b[38;5;241m.\u001b[39mseek(\u001b[38;5;241m0\u001b[39m)\n\u001b[0;32m   3136\u001b[0m \u001b[38;5;28;01mexcept\u001b[39;00m (\u001b[38;5;167;01mAttributeError\u001b[39;00m, io\u001b[38;5;241m.\u001b[39mUnsupportedOperation):\n\u001b[1;32m-> 3137\u001b[0m     fp \u001b[38;5;241m=\u001b[39m io\u001b[38;5;241m.\u001b[39mBytesIO(\u001b[43mfp\u001b[49m\u001b[38;5;241;43m.\u001b[39;49m\u001b[43mread\u001b[49m())\n        fp \u001b[1;34m= {'name': 'dog.jpg', 'type': 'image/jpeg', 'size': 215498, 'content': <memory at 0x000001D1051AC700>, 'last_modified': datetime.datetime(2023, 7, 15, 17, 15, 10, 481000, tzinfo=datetime.timezone.utc)}\u001b[0m\n\u001b[0;32m   3138\u001b[0m     exclusive_fp \u001b[38;5;241m=\u001b[39m \u001b[38;5;28;01mTrue\u001b[39;00m\n\u001b[0;32m   3140\u001b[0m prefix \u001b[38;5;241m=\u001b[39m fp\u001b[38;5;241m.\u001b[39mread(\u001b[38;5;241m16\u001b[39m)\n",
      "File \u001b[1;32m~\\miniconda3\\envs\\pipsetup\\Lib\\site-packages\\traitlets\\utils\\bunch.py:17\u001b[0m, in \u001b[0;36mBunch.__getattr__\u001b[1;34m(self={'name': 'dog.jpg', 'type': 'image/jpeg', 'size'...7, 15, 10, 481000, tzinfo=datetime.timezone.utc)}, key='read')\u001b[0m\n\u001b[0;32m     15\u001b[0m     \u001b[38;5;28;01mreturn\u001b[39;00m \u001b[38;5;28mself\u001b[39m\u001b[38;5;241m.\u001b[39m\u001b[38;5;21m__getitem__\u001b[39m(key)\n\u001b[0;32m     16\u001b[0m \u001b[38;5;28;01mexcept\u001b[39;00m \u001b[38;5;167;01mKeyError\u001b[39;00m \u001b[38;5;28;01mas\u001b[39;00m e:\n\u001b[1;32m---> 17\u001b[0m     \u001b[38;5;28;01mraise\u001b[39;00m \u001b[38;5;167;01mAttributeError\u001b[39;00m(key) \u001b[38;5;28;01mfrom\u001b[39;00m \u001b[38;5;21;01me\u001b[39;00m\n        key \u001b[1;34m= 'read'\u001b[0m\n",
      "\u001b[1;31mAttributeError\u001b[0m: read"
     ]
    }
   ],
   "source": [
    "# uploader.data[0] has been deprecated\n",
    "# uploader.value[0] is used instead. Also use file.content.tobytes() to get a byte file, which can then be converted to image.\n",
    "\n",
    "file = uploader.value[0]\n",
    "# byteFile = file.content.tobytes()\n",
    "# img = widgets.Image(value=byteFile)\n",
    "# img\n",
    "\n",
    "img = PILImage.create(file)"
   ]
  },
  {
   "cell_type": "code",
   "execution_count": 25,
   "id": "35d6ec0f",
   "metadata": {},
   "outputs": [
    {
     "ename": "AssertionError",
     "evalue": "Expected an input of type in \n  - <class 'pathlib.WindowsPath'>\n  - <class 'pathlib.Path'>\n  - <class 'str'>\n  - <class 'torch.Tensor'>\n  - <class 'numpy.ndarray'>\n  - <class 'bytes'>\n  - <class 'PIL.Image.Image'>\n  - <class 'fastai.vision.core.PILImage'>\n but got <class 'ipywidgets.widgets.widget_media.Image'>",
     "output_type": "error",
     "traceback": [
      "\u001b[1;31m---------------------------------------------------------------------------\u001b[0m",
      "\u001b[1;31mAssertionError\u001b[0m                            Traceback (most recent call last)",
      "Cell \u001b[1;32mIn[25], line 1\u001b[0m\n\u001b[1;32m----> 1\u001b[0m \u001b[43mlearn\u001b[49m\u001b[38;5;241;43m.\u001b[39;49m\u001b[43mpredict\u001b[49m\u001b[43m(\u001b[49m\u001b[43mimg\u001b[49m\u001b[43m)\u001b[49m\n        img \u001b[1;34m= Image(value=b'\\xff\\xd8\\xff\\xe0\\x00\\x10JFIF\\x00\\x01\\x01\\x01\\x00H\\x00H\\x00\\x00\\xff\\xe2\\x02@ICC_PROFILE\\x00\\x01\\x01\\x00\\x00...')\u001b[0m\u001b[1;34m\n        \u001b[0mlearn \u001b[1;34m= <fastai.learner.Learner object at 0x000001D1051D9510>\u001b[0m\n",
      "File \u001b[1;32m~\\miniconda3\\envs\\pipsetup\\Lib\\site-packages\\fastai\\learner.py:320\u001b[0m, in \u001b[0;36mLearner.predict\u001b[1;34m(self=<fastai.learner.Learner object>, item=Image(value=b'\\xff\\xd8\\xff\\xe0\\x00\\x10JFIF\\x00\\x...\\xff\\xe2\\x02@ICC_PROFILE\\x00\\x01\\x01\\x00\\x00...'), rm_type_tfms=None, with_input=False)\u001b[0m\n\u001b[0;32m    319\u001b[0m \u001b[38;5;28;01mdef\u001b[39;00m \u001b[38;5;21mpredict\u001b[39m(\u001b[38;5;28mself\u001b[39m, item, rm_type_tfms\u001b[38;5;241m=\u001b[39m\u001b[38;5;28;01mNone\u001b[39;00m, with_input\u001b[38;5;241m=\u001b[39m\u001b[38;5;28;01mFalse\u001b[39;00m):\n\u001b[1;32m--> 320\u001b[0m     dl \u001b[38;5;241m=\u001b[39m \u001b[38;5;28;43mself\u001b[39;49m\u001b[38;5;241;43m.\u001b[39;49m\u001b[43mdls\u001b[49m\u001b[38;5;241;43m.\u001b[39;49m\u001b[43mtest_dl\u001b[49m\u001b[43m(\u001b[49m\u001b[43m[\u001b[49m\u001b[43mitem\u001b[49m\u001b[43m]\u001b[49m\u001b[43m,\u001b[49m\u001b[43m \u001b[49m\u001b[43mrm_type_tfms\u001b[49m\u001b[38;5;241;43m=\u001b[39;49m\u001b[43mrm_type_tfms\u001b[49m\u001b[43m,\u001b[49m\u001b[43m \u001b[49m\u001b[43mnum_workers\u001b[49m\u001b[38;5;241;43m=\u001b[39;49m\u001b[38;5;241;43m0\u001b[39;49m\u001b[43m)\u001b[49m\n        [item] \u001b[1;34m= [Image(value=b'\\xff\\xd8\\xff\\xe0\\x00\\x10JFIF\\x00\\x01\\x01\\x01\\x00H\\x00H\\x00\\x00\\xff\\xe2\\x02@ICC_PROFILE\\x00\\x01\\x01\\x00\\x00...')]\u001b[0m\u001b[1;34m\n        \u001b[0mself.dls \u001b[1;34m= <fastai.data.core.DataLoaders object at 0x000001D1051C9ED0>\u001b[0m\u001b[1;34m\n        \u001b[0mitem \u001b[1;34m= Image(value=b'\\xff\\xd8\\xff\\xe0\\x00\\x10JFIF\\x00\\x01\\x01\\x01\\x00H\\x00H\\x00\\x00\\xff\\xe2\\x02@ICC_PROFILE\\x00\\x01\\x01\\x00\\x00...')\u001b[0m\u001b[1;34m\n        \u001b[0mrm_type_tfms \u001b[1;34m= None\u001b[0m\u001b[1;34m\n        \u001b[0mself \u001b[1;34m= <fastai.learner.Learner object at 0x000001D1051D9510>\u001b[0m\n\u001b[0;32m    321\u001b[0m     inp,preds,_,dec_preds \u001b[38;5;241m=\u001b[39m \u001b[38;5;28mself\u001b[39m\u001b[38;5;241m.\u001b[39mget_preds(dl\u001b[38;5;241m=\u001b[39mdl, with_input\u001b[38;5;241m=\u001b[39m\u001b[38;5;28;01mTrue\u001b[39;00m, with_decoded\u001b[38;5;241m=\u001b[39m\u001b[38;5;28;01mTrue\u001b[39;00m)\n\u001b[0;32m    322\u001b[0m     i \u001b[38;5;241m=\u001b[39m \u001b[38;5;28mgetattr\u001b[39m(\u001b[38;5;28mself\u001b[39m\u001b[38;5;241m.\u001b[39mdls, \u001b[38;5;124m'\u001b[39m\u001b[38;5;124mn_inp\u001b[39m\u001b[38;5;124m'\u001b[39m, \u001b[38;5;241m-\u001b[39m\u001b[38;5;241m1\u001b[39m)\n",
      "File \u001b[1;32m~\\miniconda3\\envs\\pipsetup\\Lib\\site-packages\\fastai\\data\\core.py:535\u001b[0m, in \u001b[0;36mtest_dl\u001b[1;34m(self=<fastai.data.core.DataLoaders object>, test_items=[Image(value=b'\\xff\\xd8\\xff\\xe0\\x00\\x10JFIF\\x00\\x...\\xff\\xe2\\x02@ICC_PROFILE\\x00\\x01\\x01\\x00\\x00...')], rm_type_tfms=None, with_labels=False, **kwargs={'num_workers': 0})\u001b[0m\n\u001b[0;32m    526\u001b[0m \u001b[38;5;129m@patch\u001b[39m\n\u001b[0;32m    527\u001b[0m \u001b[38;5;129m@delegates\u001b[39m(TfmdDL\u001b[38;5;241m.\u001b[39m\u001b[38;5;21m__init__\u001b[39m)\n\u001b[0;32m    528\u001b[0m \u001b[38;5;28;01mdef\u001b[39;00m \u001b[38;5;21mtest_dl\u001b[39m(\u001b[38;5;28mself\u001b[39m:DataLoaders, \n\u001b[1;32m   (...)\u001b[0m\n\u001b[0;32m    532\u001b[0m     \u001b[38;5;241m*\u001b[39m\u001b[38;5;241m*\u001b[39mkwargs\n\u001b[0;32m    533\u001b[0m ):\n\u001b[0;32m    534\u001b[0m     \u001b[38;5;124m\"\u001b[39m\u001b[38;5;124mCreate a test dataloader from `test_items` using validation transforms of `dls`\u001b[39m\u001b[38;5;124m\"\u001b[39m\n\u001b[1;32m--> 535\u001b[0m     test_ds \u001b[38;5;241m=\u001b[39m \u001b[43mtest_set\u001b[49m\u001b[43m(\u001b[49m\u001b[38;5;28;43mself\u001b[39;49m\u001b[38;5;241;43m.\u001b[39;49m\u001b[43mvalid_ds\u001b[49m\u001b[43m,\u001b[49m\u001b[43m \u001b[49m\u001b[43mtest_items\u001b[49m\u001b[43m,\u001b[49m\u001b[43m \u001b[49m\u001b[43mrm_tfms\u001b[49m\u001b[38;5;241;43m=\u001b[39;49m\u001b[43mrm_type_tfms\u001b[49m\u001b[43m,\u001b[49m\u001b[43m \u001b[49m\u001b[43mwith_labels\u001b[49m\u001b[38;5;241;43m=\u001b[39;49m\u001b[43mwith_labels\u001b[49m\n        test_items \u001b[1;34m= [Image(value=b'\\xff\\xd8\\xff\\xe0\\x00\\x10JFIF\\x00\\x01\\x01\\x01\\x00H\\x00H\\x00\\x00\\xff\\xe2\\x02@ICC_PROFILE\\x00\\x01\\x01\\x00\\x00...')]\u001b[0m\u001b[1;34m\n        \u001b[0mself \u001b[1;34m= <fastai.data.core.DataLoaders object at 0x000001D1051C9ED0>\u001b[0m\u001b[1;34m\n        \u001b[0mrm_type_tfms \u001b[1;34m= None\u001b[0m\u001b[1;34m\n        \u001b[0mwith_labels \u001b[1;34m= False\u001b[0m\u001b[1;34m\n        \u001b[0m(Datasets, TfmdLists) \u001b[1;34m= (<class 'fastai.data.core.Datasets'>, <class 'fastai.data.core.TfmdLists'>)\u001b[0m\u001b[1;34m\n        \u001b[0mTfmdLists \u001b[1;34m= <class 'fastai.data.core.TfmdLists'>\u001b[0m\n\u001b[0;32m    536\u001b[0m \u001b[43m                      \u001b[49m\u001b[43m)\u001b[49m \u001b[38;5;28;01mif\u001b[39;00m \u001b[38;5;28misinstance\u001b[39m(\u001b[38;5;28mself\u001b[39m\u001b[38;5;241m.\u001b[39mvalid_ds, (Datasets, TfmdLists)) \u001b[38;5;28;01melse\u001b[39;00m test_items\n\u001b[0;32m    537\u001b[0m     \u001b[38;5;28;01mreturn\u001b[39;00m \u001b[38;5;28mself\u001b[39m\u001b[38;5;241m.\u001b[39mvalid\u001b[38;5;241m.\u001b[39mnew(test_ds, \u001b[38;5;241m*\u001b[39m\u001b[38;5;241m*\u001b[39mkwargs)\n",
      "File \u001b[1;32m~\\miniconda3\\envs\\pipsetup\\Lib\\site-packages\\fastai\\data\\core.py:514\u001b[0m, in \u001b[0;36mtest_set\u001b[1;34m(dsets=(#1478) [(PILImage mode=RGB size=206x300, Tensor...age mode=RGB size=500x375, TensorCategory(1))...], test_items=[Image(value=b'\\xff\\xd8\\xff\\xe0\\x00\\x10JFIF\\x00\\x...\\xff\\xe2\\x02@ICC_PROFILE\\x00\\x01\\x01\\x00\\x00...')], rm_tfms=None, with_labels=False)\u001b[0m\n\u001b[0;32m    512\u001b[0m tls \u001b[38;5;241m=\u001b[39m dsets\u001b[38;5;241m.\u001b[39mtls \u001b[38;5;28;01mif\u001b[39;00m with_labels \u001b[38;5;28;01melse\u001b[39;00m dsets\u001b[38;5;241m.\u001b[39mtls[:dsets\u001b[38;5;241m.\u001b[39mn_inp]\n\u001b[0;32m    513\u001b[0m test_tls \u001b[38;5;241m=\u001b[39m [tl\u001b[38;5;241m.\u001b[39m_new(test_items, split_idx\u001b[38;5;241m=\u001b[39m\u001b[38;5;241m1\u001b[39m) \u001b[38;5;28;01mfor\u001b[39;00m tl \u001b[38;5;129;01min\u001b[39;00m tls]\n\u001b[1;32m--> 514\u001b[0m \u001b[38;5;28;01mif\u001b[39;00m rm_tfms \u001b[38;5;129;01mis\u001b[39;00m \u001b[38;5;28;01mNone\u001b[39;00m: rm_tfms \u001b[38;5;241m=\u001b[39m \u001b[43m[\u001b[49m\u001b[43mtl\u001b[49m\u001b[38;5;241;43m.\u001b[39;49m\u001b[43minfer_idx\u001b[49m\u001b[43m(\u001b[49m\u001b[43mget_first\u001b[49m\u001b[43m(\u001b[49m\u001b[43mtest_items\u001b[49m\u001b[43m)\u001b[49m\u001b[43m)\u001b[49m\u001b[43m \u001b[49m\u001b[38;5;28;43;01mfor\u001b[39;49;00m\u001b[43m \u001b[49m\u001b[43mtl\u001b[49m\u001b[43m \u001b[49m\u001b[38;5;129;43;01min\u001b[39;49;00m\u001b[43m \u001b[49m\u001b[43mtest_tls\u001b[49m\u001b[43m]\u001b[49m\n        test_tls \u001b[1;34m= [TfmdLists: [Image(value=b'\\xff\\xd8\\xff\\xe0\\x00\\x10JFIF\\x00\\x01\\x01\\x01\\x00H\\x00H\\x00\\x00\\xff\\xe2\\x02@ICC_PROFILE\\x00\\x01\\x01\\x00\\x00...')]\ntfms - [noop:\nencodes: (object,object) -> noopdecodes: , PILBase.create:\nencodes: (Path,object) -> create\n(str,object) -> create\n(Tensor,object) -> create\n(ndarray,object) -> create\n(bytes,object) -> create\n(Image,object) -> createdecodes: ]]\u001b[0m\u001b[1;34m\n        \u001b[0mrm_tfms is None \u001b[1;34m= True\u001b[0m\u001b[1;34m\n        \u001b[0mrm_tfms \u001b[1;34m= None\u001b[0m\u001b[1;34m\n        \u001b[0mtest_items \u001b[1;34m= [Image(value=b'\\xff\\xd8\\xff\\xe0\\x00\\x10JFIF\\x00\\x01\\x01\\x01\\x00H\\x00H\\x00\\x00\\xff\\xe2\\x02@ICC_PROFILE\\x00\\x01\\x01\\x00\\x00...')]\u001b[0m\n\u001b[0;32m    515\u001b[0m \u001b[38;5;28;01melse\u001b[39;00m:               rm_tfms \u001b[38;5;241m=\u001b[39m tuplify(rm_tfms, match\u001b[38;5;241m=\u001b[39mtest_tls)\n\u001b[0;32m    516\u001b[0m \u001b[38;5;28;01mfor\u001b[39;00m i,j \u001b[38;5;129;01min\u001b[39;00m \u001b[38;5;28menumerate\u001b[39m(rm_tfms): test_tls[i]\u001b[38;5;241m.\u001b[39mtfms\u001b[38;5;241m.\u001b[39mfs \u001b[38;5;241m=\u001b[39m test_tls[i]\u001b[38;5;241m.\u001b[39mtfms\u001b[38;5;241m.\u001b[39mfs[j:]\n",
      "File \u001b[1;32m~\\miniconda3\\envs\\pipsetup\\Lib\\site-packages\\fastai\\data\\core.py:514\u001b[0m, in \u001b[0;36m<listcomp>\u001b[1;34m(.0=<list_iterator object>)\u001b[0m\n\u001b[0;32m    512\u001b[0m tls \u001b[38;5;241m=\u001b[39m dsets\u001b[38;5;241m.\u001b[39mtls \u001b[38;5;28;01mif\u001b[39;00m with_labels \u001b[38;5;28;01melse\u001b[39;00m dsets\u001b[38;5;241m.\u001b[39mtls[:dsets\u001b[38;5;241m.\u001b[39mn_inp]\n\u001b[0;32m    513\u001b[0m test_tls \u001b[38;5;241m=\u001b[39m [tl\u001b[38;5;241m.\u001b[39m_new(test_items, split_idx\u001b[38;5;241m=\u001b[39m\u001b[38;5;241m1\u001b[39m) \u001b[38;5;28;01mfor\u001b[39;00m tl \u001b[38;5;129;01min\u001b[39;00m tls]\n\u001b[1;32m--> 514\u001b[0m \u001b[38;5;28;01mif\u001b[39;00m rm_tfms \u001b[38;5;129;01mis\u001b[39;00m \u001b[38;5;28;01mNone\u001b[39;00m: rm_tfms \u001b[38;5;241m=\u001b[39m [\u001b[43mtl\u001b[49m\u001b[38;5;241;43m.\u001b[39;49m\u001b[43minfer_idx\u001b[49m\u001b[43m(\u001b[49m\u001b[43mget_first\u001b[49m\u001b[43m(\u001b[49m\u001b[43mtest_items\u001b[49m\u001b[43m)\u001b[49m\u001b[43m)\u001b[49m \u001b[38;5;28;01mfor\u001b[39;00m tl \u001b[38;5;129;01min\u001b[39;00m test_tls]\n        test_items \u001b[1;34m= [Image(value=b'\\xff\\xd8\\xff\\xe0\\x00\\x10JFIF\\x00\\x01\\x01\\x01\\x00H\\x00H\\x00\\x00\\xff\\xe2\\x02@ICC_PROFILE\\x00\\x01\\x01\\x00\\x00...')]\u001b[0m\u001b[1;34m\n        \u001b[0mtl \u001b[1;34m= TfmdLists: [Image(value=b'\\xff\\xd8\\xff\\xe0\\x00\\x10JFIF\\x00\\x01\\x01\\x01\\x00H\\x00H\\x00\\x00\\xff\\xe2\\x02@ICC_PROFILE\\x00\\x01\\x01\\x00\\x00...')]\ntfms - [noop:\nencodes: (object,object) -> noopdecodes: , PILBase.create:\nencodes: (Path,object) -> create\n(str,object) -> create\n(Tensor,object) -> create\n(ndarray,object) -> create\n(bytes,object) -> create\n(Image,object) -> createdecodes: ]\u001b[0m\n\u001b[0;32m    515\u001b[0m \u001b[38;5;28;01melse\u001b[39;00m:               rm_tfms \u001b[38;5;241m=\u001b[39m tuplify(rm_tfms, match\u001b[38;5;241m=\u001b[39mtest_tls)\n\u001b[0;32m    516\u001b[0m \u001b[38;5;28;01mfor\u001b[39;00m i,j \u001b[38;5;129;01min\u001b[39;00m \u001b[38;5;28menumerate\u001b[39m(rm_tfms): test_tls[i]\u001b[38;5;241m.\u001b[39mtfms\u001b[38;5;241m.\u001b[39mfs \u001b[38;5;241m=\u001b[39m test_tls[i]\u001b[38;5;241m.\u001b[39mtfms\u001b[38;5;241m.\u001b[39mfs[j:]\n",
      "File \u001b[1;32m~\\miniconda3\\envs\\pipsetup\\Lib\\site-packages\\fastai\\data\\core.py:408\u001b[0m, in \u001b[0;36mTfmdLists.infer_idx\u001b[1;34m(self=TfmdLists: [Image(value=b'\\xff\\xd8\\xff\\xe0\\x00\\x...ect) -> create\n(Image,object) -> createdecodes: ], x=Image(value=b'\\xff\\xd8\\xff\\xe0\\x00\\x10JFIF\\x00\\x...\\xff\\xe2\\x02@ICC_PROFILE\\x00\\x01\\x01\\x00\\x00...'))\u001b[0m\n\u001b[0;32m    406\u001b[0m types \u001b[38;5;241m=\u001b[39m L(t \u001b[38;5;28;01mif\u001b[39;00m is_listy(t) \u001b[38;5;28;01melse\u001b[39;00m [t] \u001b[38;5;28;01mfor\u001b[39;00m t \u001b[38;5;129;01min\u001b[39;00m \u001b[38;5;28mself\u001b[39m\u001b[38;5;241m.\u001b[39mtypes)\u001b[38;5;241m.\u001b[39mconcat()\u001b[38;5;241m.\u001b[39munique()\n\u001b[0;32m    407\u001b[0m pretty_types \u001b[38;5;241m=\u001b[39m \u001b[38;5;124m'\u001b[39m\u001b[38;5;130;01m\\n\u001b[39;00m\u001b[38;5;124m'\u001b[39m\u001b[38;5;241m.\u001b[39mjoin([\u001b[38;5;124mf\u001b[39m\u001b[38;5;124m'\u001b[39m\u001b[38;5;124m  - \u001b[39m\u001b[38;5;132;01m{\u001b[39;00mt\u001b[38;5;132;01m}\u001b[39;00m\u001b[38;5;124m'\u001b[39m \u001b[38;5;28;01mfor\u001b[39;00m t \u001b[38;5;129;01min\u001b[39;00m types])\n\u001b[1;32m--> 408\u001b[0m \u001b[38;5;28;01massert\u001b[39;00m idx \u001b[38;5;241m<\u001b[39m \u001b[38;5;28mlen\u001b[39m(\u001b[38;5;28mself\u001b[39m\u001b[38;5;241m.\u001b[39mtypes), \u001b[38;5;124mf\u001b[39m\u001b[38;5;124m\"\u001b[39m\u001b[38;5;124mExpected an input of type in \u001b[39m\u001b[38;5;130;01m\\n\u001b[39;00m\u001b[38;5;132;01m{\u001b[39;00mpretty_types\u001b[38;5;132;01m}\u001b[39;00m\u001b[38;5;130;01m\\n\u001b[39;00m\u001b[38;5;124m but got \u001b[39m\u001b[38;5;132;01m{\u001b[39;00m\u001b[38;5;28mtype\u001b[39m(x)\u001b[38;5;132;01m}\u001b[39;00m\u001b[38;5;124m\"\u001b[39m\n        idx \u001b[1;34m= 3\u001b[0m\u001b[1;34m\n        \u001b[0mself.types \u001b[1;34m= [<class 'pathlib.WindowsPath'>, (<class 'pathlib.Path'>, <class 'str'>, <class 'torch.Tensor'>, <class 'numpy.ndarray'>, <class 'bytes'>, <class 'PIL.Image.Image'>), <class 'fastai.vision.core.PILImage'>]\u001b[0m\u001b[1;34m\n        \u001b[0mpretty_types \u001b[1;34m= \"  - <class 'pathlib.WindowsPath'>\\n  - <class 'pathlib.Path'>\\n  - <class 'str'>\\n  - <class 'torch.Tensor'>\\n  - <class 'numpy.ndarray'>\\n  - <class 'bytes'>\\n  - <class 'PIL.Image.Image'>\\n  - <class 'fastai.vision.core.PILImage'>\"\u001b[0m\u001b[1;34m\n        \u001b[0midx < len(self.types) \u001b[1;34m= False\u001b[0m\u001b[1;34m\n        \u001b[0mself \u001b[1;34m= TfmdLists: [Image(value=b'\\xff\\xd8\\xff\\xe0\\x00\\x10JFIF\\x00\\x01\\x01\\x01\\x00H\\x00H\\x00\\x00\\xff\\xe2\\x02@ICC_PROFILE\\x00\\x01\\x01\\x00\\x00...')]\ntfms - [noop:\nencodes: (object,object) -> noopdecodes: , PILBase.create:\nencodes: (Path,object) -> create\n(str,object) -> create\n(Tensor,object) -> create\n(ndarray,object) -> create\n(bytes,object) -> create\n(Image,object) -> createdecodes: ]\u001b[0m\u001b[1;34m\n        \u001b[0mlen(self.types) \u001b[1;34m= 3\u001b[0m\u001b[1;34m\n        \u001b[0mx \u001b[1;34m= Image(value=b'\\xff\\xd8\\xff\\xe0\\x00\\x10JFIF\\x00\\x01\\x01\\x01\\x00H\\x00H\\x00\\x00\\xff\\xe2\\x02@ICC_PROFILE\\x00\\x01\\x01\\x00\\x00...')\u001b[0m\u001b[1;34m\n        \u001b[0mtype(x) \u001b[1;34m= <class 'ipywidgets.widgets.widget_media.Image'>\u001b[0m\n\u001b[0;32m    409\u001b[0m \u001b[38;5;28;01mreturn\u001b[39;00m idx\n",
      "\u001b[1;31mAssertionError\u001b[0m: Expected an input of type in \n  - <class 'pathlib.WindowsPath'>\n  - <class 'pathlib.Path'>\n  - <class 'str'>\n  - <class 'torch.Tensor'>\n  - <class 'numpy.ndarray'>\n  - <class 'bytes'>\n  - <class 'PIL.Image.Image'>\n  - <class 'fastai.vision.core.PILImage'>\n but got <class 'ipywidgets.widgets.widget_media.Image'>"
     ]
    }
   ],
   "source": [
    "learn.predict(img)"
   ]
  },
  {
   "cell_type": "code",
   "execution_count": null,
   "id": "cce69ce5",
   "metadata": {},
   "outputs": [],
   "source": []
  }
 ],
 "metadata": {
  "kernelspec": {
   "display_name": "Python 3 (ipykernel)",
   "language": "python",
   "name": "python3"
  },
  "language_info": {
   "codemirror_mode": {
    "name": "ipython",
    "version": 3
   },
   "file_extension": ".py",
   "mimetype": "text/x-python",
   "name": "python",
   "nbconvert_exporter": "python",
   "pygments_lexer": "ipython3",
   "version": "3.11.4"
  }
 },
 "nbformat": 4,
 "nbformat_minor": 5
}
